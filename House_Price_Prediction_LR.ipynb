{
  "nbformat": 4,
  "nbformat_minor": 0,
  "metadata": {
    "colab": {
      "provenance": [],
      "authorship_tag": "ABX9TyOuMZL0XTWRf+08UfszzVxX",
      "include_colab_link": true
    },
    "kernelspec": {
      "name": "python3",
      "display_name": "Python 3"
    },
    "language_info": {
      "name": "python"
    }
  },
  "cells": [
    {
      "cell_type": "markdown",
      "metadata": {
        "id": "view-in-github",
        "colab_type": "text"
      },
      "source": [
        "<a href=\"https://colab.research.google.com/github/RaisJaya/House-Price-Prediction-using-Linear-Regression/blob/main/House_Price_Prediction_LR.ipynb\" target=\"_parent\"><img src=\"https://colab.research.google.com/assets/colab-badge.svg\" alt=\"Open In Colab\"/></a>"
      ]
    },
    {
      "cell_type": "markdown",
      "source": [
        "#**HOUSE PRICE PREDICTION USING LINEAR REGRESSION**"
      ],
      "metadata": {
        "id": "nw1WanJ0AFAe"
      }
    },
    {
      "cell_type": "markdown",
      "source": [
        "*Load Library*"
      ],
      "metadata": {
        "id": "awdh7CFgAdqX"
      }
    },
    {
      "cell_type": "code",
      "execution_count": 1,
      "metadata": {
        "id": "S5RD4o52ACwc"
      },
      "outputs": [],
      "source": [
        "import pandas as pd\n",
        "import numpy as np\n",
        "import io\n",
        "import matplotlib.pyplot as plt\n",
        "import seaborn as sns\n",
        "from sklearn.linear_model import LinearRegression\n",
        "from sklearn.model_selection import train_test_split"
      ]
    },
    {
      "cell_type": "code",
      "source": [
        "from google.colab import files\n",
        "data_to_load = files.upload()"
      ],
      "metadata": {
        "colab": {
          "base_uri": "https://localhost:8080/",
          "height": 73
        },
        "id": "Y5SRWflwBEeQ",
        "outputId": "34842d26-dc81-4854-b1ea-760e9a241488"
      },
      "execution_count": 2,
      "outputs": [
        {
          "output_type": "display_data",
          "data": {
            "text/plain": [
              "<IPython.core.display.HTML object>"
            ],
            "text/html": [
              "\n",
              "     <input type=\"file\" id=\"files-8d374cf6-baa2-45e8-8326-ca11564e584f\" name=\"files[]\" multiple disabled\n",
              "        style=\"border:none\" />\n",
              "     <output id=\"result-8d374cf6-baa2-45e8-8326-ca11564e584f\">\n",
              "      Upload widget is only available when the cell has been executed in the\n",
              "      current browser session. Please rerun this cell to enable.\n",
              "      </output>\n",
              "      <script>// Copyright 2017 Google LLC\n",
              "//\n",
              "// Licensed under the Apache License, Version 2.0 (the \"License\");\n",
              "// you may not use this file except in compliance with the License.\n",
              "// You may obtain a copy of the License at\n",
              "//\n",
              "//      http://www.apache.org/licenses/LICENSE-2.0\n",
              "//\n",
              "// Unless required by applicable law or agreed to in writing, software\n",
              "// distributed under the License is distributed on an \"AS IS\" BASIS,\n",
              "// WITHOUT WARRANTIES OR CONDITIONS OF ANY KIND, either express or implied.\n",
              "// See the License for the specific language governing permissions and\n",
              "// limitations under the License.\n",
              "\n",
              "/**\n",
              " * @fileoverview Helpers for google.colab Python module.\n",
              " */\n",
              "(function(scope) {\n",
              "function span(text, styleAttributes = {}) {\n",
              "  const element = document.createElement('span');\n",
              "  element.textContent = text;\n",
              "  for (const key of Object.keys(styleAttributes)) {\n",
              "    element.style[key] = styleAttributes[key];\n",
              "  }\n",
              "  return element;\n",
              "}\n",
              "\n",
              "// Max number of bytes which will be uploaded at a time.\n",
              "const MAX_PAYLOAD_SIZE = 100 * 1024;\n",
              "\n",
              "function _uploadFiles(inputId, outputId) {\n",
              "  const steps = uploadFilesStep(inputId, outputId);\n",
              "  const outputElement = document.getElementById(outputId);\n",
              "  // Cache steps on the outputElement to make it available for the next call\n",
              "  // to uploadFilesContinue from Python.\n",
              "  outputElement.steps = steps;\n",
              "\n",
              "  return _uploadFilesContinue(outputId);\n",
              "}\n",
              "\n",
              "// This is roughly an async generator (not supported in the browser yet),\n",
              "// where there are multiple asynchronous steps and the Python side is going\n",
              "// to poll for completion of each step.\n",
              "// This uses a Promise to block the python side on completion of each step,\n",
              "// then passes the result of the previous step as the input to the next step.\n",
              "function _uploadFilesContinue(outputId) {\n",
              "  const outputElement = document.getElementById(outputId);\n",
              "  const steps = outputElement.steps;\n",
              "\n",
              "  const next = steps.next(outputElement.lastPromiseValue);\n",
              "  return Promise.resolve(next.value.promise).then((value) => {\n",
              "    // Cache the last promise value to make it available to the next\n",
              "    // step of the generator.\n",
              "    outputElement.lastPromiseValue = value;\n",
              "    return next.value.response;\n",
              "  });\n",
              "}\n",
              "\n",
              "/**\n",
              " * Generator function which is called between each async step of the upload\n",
              " * process.\n",
              " * @param {string} inputId Element ID of the input file picker element.\n",
              " * @param {string} outputId Element ID of the output display.\n",
              " * @return {!Iterable<!Object>} Iterable of next steps.\n",
              " */\n",
              "function* uploadFilesStep(inputId, outputId) {\n",
              "  const inputElement = document.getElementById(inputId);\n",
              "  inputElement.disabled = false;\n",
              "\n",
              "  const outputElement = document.getElementById(outputId);\n",
              "  outputElement.innerHTML = '';\n",
              "\n",
              "  const pickedPromise = new Promise((resolve) => {\n",
              "    inputElement.addEventListener('change', (e) => {\n",
              "      resolve(e.target.files);\n",
              "    });\n",
              "  });\n",
              "\n",
              "  const cancel = document.createElement('button');\n",
              "  inputElement.parentElement.appendChild(cancel);\n",
              "  cancel.textContent = 'Cancel upload';\n",
              "  const cancelPromise = new Promise((resolve) => {\n",
              "    cancel.onclick = () => {\n",
              "      resolve(null);\n",
              "    };\n",
              "  });\n",
              "\n",
              "  // Wait for the user to pick the files.\n",
              "  const files = yield {\n",
              "    promise: Promise.race([pickedPromise, cancelPromise]),\n",
              "    response: {\n",
              "      action: 'starting',\n",
              "    }\n",
              "  };\n",
              "\n",
              "  cancel.remove();\n",
              "\n",
              "  // Disable the input element since further picks are not allowed.\n",
              "  inputElement.disabled = true;\n",
              "\n",
              "  if (!files) {\n",
              "    return {\n",
              "      response: {\n",
              "        action: 'complete',\n",
              "      }\n",
              "    };\n",
              "  }\n",
              "\n",
              "  for (const file of files) {\n",
              "    const li = document.createElement('li');\n",
              "    li.append(span(file.name, {fontWeight: 'bold'}));\n",
              "    li.append(span(\n",
              "        `(${file.type || 'n/a'}) - ${file.size} bytes, ` +\n",
              "        `last modified: ${\n",
              "            file.lastModifiedDate ? file.lastModifiedDate.toLocaleDateString() :\n",
              "                                    'n/a'} - `));\n",
              "    const percent = span('0% done');\n",
              "    li.appendChild(percent);\n",
              "\n",
              "    outputElement.appendChild(li);\n",
              "\n",
              "    const fileDataPromise = new Promise((resolve) => {\n",
              "      const reader = new FileReader();\n",
              "      reader.onload = (e) => {\n",
              "        resolve(e.target.result);\n",
              "      };\n",
              "      reader.readAsArrayBuffer(file);\n",
              "    });\n",
              "    // Wait for the data to be ready.\n",
              "    let fileData = yield {\n",
              "      promise: fileDataPromise,\n",
              "      response: {\n",
              "        action: 'continue',\n",
              "      }\n",
              "    };\n",
              "\n",
              "    // Use a chunked sending to avoid message size limits. See b/62115660.\n",
              "    let position = 0;\n",
              "    do {\n",
              "      const length = Math.min(fileData.byteLength - position, MAX_PAYLOAD_SIZE);\n",
              "      const chunk = new Uint8Array(fileData, position, length);\n",
              "      position += length;\n",
              "\n",
              "      const base64 = btoa(String.fromCharCode.apply(null, chunk));\n",
              "      yield {\n",
              "        response: {\n",
              "          action: 'append',\n",
              "          file: file.name,\n",
              "          data: base64,\n",
              "        },\n",
              "      };\n",
              "\n",
              "      let percentDone = fileData.byteLength === 0 ?\n",
              "          100 :\n",
              "          Math.round((position / fileData.byteLength) * 100);\n",
              "      percent.textContent = `${percentDone}% done`;\n",
              "\n",
              "    } while (position < fileData.byteLength);\n",
              "  }\n",
              "\n",
              "  // All done.\n",
              "  yield {\n",
              "    response: {\n",
              "      action: 'complete',\n",
              "    }\n",
              "  };\n",
              "}\n",
              "\n",
              "scope.google = scope.google || {};\n",
              "scope.google.colab = scope.google.colab || {};\n",
              "scope.google.colab._files = {\n",
              "  _uploadFiles,\n",
              "  _uploadFilesContinue,\n",
              "};\n",
              "})(self);\n",
              "</script> "
            ]
          },
          "metadata": {}
        },
        {
          "output_type": "stream",
          "name": "stdout",
          "text": [
            "Saving DATA RUMAH.csv to DATA RUMAH.csv\n"
          ]
        }
      ]
    },
    {
      "cell_type": "code",
      "source": [
        "df = pd.read_csv(io.BytesIO(data_to_load['DATA RUMAH.csv']))\n",
        "print(df)"
      ],
      "metadata": {
        "colab": {
          "base_uri": "https://localhost:8080/"
        },
        "id": "CagMZRKJBLIX",
        "outputId": "55814453-eecc-41d0-d21d-b42b12dde5f9"
      },
      "execution_count": 3,
      "outputs": [
        {
          "output_type": "stream",
          "name": "stdout",
          "text": [
            "        NO                                         NAMA RUMAH        HARGA  \\\n",
            "0        1  Rumah Murah Hook Tebet Timur, Tebet, Jakarta S...   3800000000   \n",
            "1        2  Rumah Modern di Tebet dekat Stasiun, Tebet, Ja...   4600000000   \n",
            "2        3  Rumah Mewah 2 Lantai Hanya 3 Menit Ke Tebet, T...   3000000000   \n",
            "3        4           Rumah Baru Tebet, Tebet, Jakarta Selatan    430000000   \n",
            "4        5  Rumah Bagus Tebet komp Gudang Peluru lt 350m, ...   9000000000   \n",
            "...    ...                                                ...          ...   \n",
            "1005  1006  Rumah Strategis Akses Jalan 2mobil Di Menteng ...   9000000000   \n",
            "1006  1007             Tebet Rumah Siap Huni Jln 2 Mbl Nyaman   4000000000   \n",
            "1007  1008        Di Kebun Baru Rumah Terawat, Area Strategis   4000000000   \n",
            "1008  1009  Dijual Cepat Rumah Komp Depkeu Dr Soepomo Tebe...  19000000000   \n",
            "1009  1010                Dijual Rumah Kokoh Di Gudang Peluru  10500000000   \n",
            "\n",
            "       LB   LT  KT  KM  GRS  \n",
            "0     220  220   3   3    0  \n",
            "1     180  137   4   3    2  \n",
            "2     267  250   4   4    4  \n",
            "3      40   25   2   2    0  \n",
            "4     400  355   6   5    3  \n",
            "...   ...  ...  ..  ..  ...  \n",
            "1005  450  550  10  10    3  \n",
            "1006  160  140   4   3    2  \n",
            "1007  139  230   4   4    1  \n",
            "1008  360  606   7   4    0  \n",
            "1009  420  430   7   4    2  \n",
            "\n",
            "[1010 rows x 8 columns]\n"
          ]
        }
      ]
    },
    {
      "cell_type": "code",
      "source": [
        "df.shape"
      ],
      "metadata": {
        "colab": {
          "base_uri": "https://localhost:8080/"
        },
        "id": "LmSD23-QBTKQ",
        "outputId": "e554ff5d-727a-40d9-b251-7a329c579f83"
      },
      "execution_count": 4,
      "outputs": [
        {
          "output_type": "execute_result",
          "data": {
            "text/plain": [
              "(1010, 8)"
            ]
          },
          "metadata": {},
          "execution_count": 4
        }
      ]
    },
    {
      "cell_type": "code",
      "source": [
        "df.info()"
      ],
      "metadata": {
        "colab": {
          "base_uri": "https://localhost:8080/"
        },
        "id": "gwxcWxVuBWSn",
        "outputId": "f5de0a51-8bf4-40ff-fe1c-247b6d18e6a9"
      },
      "execution_count": 5,
      "outputs": [
        {
          "output_type": "stream",
          "name": "stdout",
          "text": [
            "<class 'pandas.core.frame.DataFrame'>\n",
            "RangeIndex: 1010 entries, 0 to 1009\n",
            "Data columns (total 8 columns):\n",
            " #   Column      Non-Null Count  Dtype \n",
            "---  ------      --------------  ----- \n",
            " 0   NO          1010 non-null   int64 \n",
            " 1   NAMA RUMAH  1010 non-null   object\n",
            " 2   HARGA       1010 non-null   int64 \n",
            " 3   LB          1010 non-null   int64 \n",
            " 4   LT          1010 non-null   int64 \n",
            " 5   KT          1010 non-null   int64 \n",
            " 6   KM          1010 non-null   int64 \n",
            " 7   GRS         1010 non-null   int64 \n",
            "dtypes: int64(7), object(1)\n",
            "memory usage: 63.2+ KB\n"
          ]
        }
      ]
    },
    {
      "cell_type": "code",
      "source": [
        "df.describe()"
      ],
      "metadata": {
        "colab": {
          "base_uri": "https://localhost:8080/",
          "height": 300
        },
        "id": "g0WDFjfyBYYs",
        "outputId": "f9dbb9a5-5c48-4181-f45b-2e12b8f6c7aa"
      },
      "execution_count": 6,
      "outputs": [
        {
          "output_type": "execute_result",
          "data": {
            "text/plain": [
              "                NO         HARGA           LB           LT           KT  \\\n",
              "count  1010.000000  1.010000e+03  1010.000000  1010.000000  1010.000000   \n",
              "mean    505.500000  7.628987e+09   276.539604   237.432673     4.668317   \n",
              "std     291.706188  7.340946e+09   177.864557   179.957604     1.572776   \n",
              "min       1.000000  4.300000e+08    40.000000    25.000000     2.000000   \n",
              "25%     253.250000  3.262500e+09   150.000000   130.000000     4.000000   \n",
              "50%     505.500000  5.000000e+09   216.500000   165.000000     4.000000   \n",
              "75%     757.750000  9.000000e+09   350.000000   290.000000     5.000000   \n",
              "max    1010.000000  6.500000e+10  1126.000000  1400.000000    10.000000   \n",
              "\n",
              "                KM          GRS  \n",
              "count  1010.000000  1010.000000  \n",
              "mean      3.607921     1.920792  \n",
              "std       1.420066     1.510998  \n",
              "min       1.000000     0.000000  \n",
              "25%       3.000000     1.000000  \n",
              "50%       3.000000     2.000000  \n",
              "75%       4.000000     2.000000  \n",
              "max      10.000000    10.000000  "
            ],
            "text/html": [
              "\n",
              "  <div id=\"df-eb79732c-4eb3-4168-8d92-f27a55a3f3d6\">\n",
              "    <div class=\"colab-df-container\">\n",
              "      <div>\n",
              "<style scoped>\n",
              "    .dataframe tbody tr th:only-of-type {\n",
              "        vertical-align: middle;\n",
              "    }\n",
              "\n",
              "    .dataframe tbody tr th {\n",
              "        vertical-align: top;\n",
              "    }\n",
              "\n",
              "    .dataframe thead th {\n",
              "        text-align: right;\n",
              "    }\n",
              "</style>\n",
              "<table border=\"1\" class=\"dataframe\">\n",
              "  <thead>\n",
              "    <tr style=\"text-align: right;\">\n",
              "      <th></th>\n",
              "      <th>NO</th>\n",
              "      <th>HARGA</th>\n",
              "      <th>LB</th>\n",
              "      <th>LT</th>\n",
              "      <th>KT</th>\n",
              "      <th>KM</th>\n",
              "      <th>GRS</th>\n",
              "    </tr>\n",
              "  </thead>\n",
              "  <tbody>\n",
              "    <tr>\n",
              "      <th>count</th>\n",
              "      <td>1010.000000</td>\n",
              "      <td>1.010000e+03</td>\n",
              "      <td>1010.000000</td>\n",
              "      <td>1010.000000</td>\n",
              "      <td>1010.000000</td>\n",
              "      <td>1010.000000</td>\n",
              "      <td>1010.000000</td>\n",
              "    </tr>\n",
              "    <tr>\n",
              "      <th>mean</th>\n",
              "      <td>505.500000</td>\n",
              "      <td>7.628987e+09</td>\n",
              "      <td>276.539604</td>\n",
              "      <td>237.432673</td>\n",
              "      <td>4.668317</td>\n",
              "      <td>3.607921</td>\n",
              "      <td>1.920792</td>\n",
              "    </tr>\n",
              "    <tr>\n",
              "      <th>std</th>\n",
              "      <td>291.706188</td>\n",
              "      <td>7.340946e+09</td>\n",
              "      <td>177.864557</td>\n",
              "      <td>179.957604</td>\n",
              "      <td>1.572776</td>\n",
              "      <td>1.420066</td>\n",
              "      <td>1.510998</td>\n",
              "    </tr>\n",
              "    <tr>\n",
              "      <th>min</th>\n",
              "      <td>1.000000</td>\n",
              "      <td>4.300000e+08</td>\n",
              "      <td>40.000000</td>\n",
              "      <td>25.000000</td>\n",
              "      <td>2.000000</td>\n",
              "      <td>1.000000</td>\n",
              "      <td>0.000000</td>\n",
              "    </tr>\n",
              "    <tr>\n",
              "      <th>25%</th>\n",
              "      <td>253.250000</td>\n",
              "      <td>3.262500e+09</td>\n",
              "      <td>150.000000</td>\n",
              "      <td>130.000000</td>\n",
              "      <td>4.000000</td>\n",
              "      <td>3.000000</td>\n",
              "      <td>1.000000</td>\n",
              "    </tr>\n",
              "    <tr>\n",
              "      <th>50%</th>\n",
              "      <td>505.500000</td>\n",
              "      <td>5.000000e+09</td>\n",
              "      <td>216.500000</td>\n",
              "      <td>165.000000</td>\n",
              "      <td>4.000000</td>\n",
              "      <td>3.000000</td>\n",
              "      <td>2.000000</td>\n",
              "    </tr>\n",
              "    <tr>\n",
              "      <th>75%</th>\n",
              "      <td>757.750000</td>\n",
              "      <td>9.000000e+09</td>\n",
              "      <td>350.000000</td>\n",
              "      <td>290.000000</td>\n",
              "      <td>5.000000</td>\n",
              "      <td>4.000000</td>\n",
              "      <td>2.000000</td>\n",
              "    </tr>\n",
              "    <tr>\n",
              "      <th>max</th>\n",
              "      <td>1010.000000</td>\n",
              "      <td>6.500000e+10</td>\n",
              "      <td>1126.000000</td>\n",
              "      <td>1400.000000</td>\n",
              "      <td>10.000000</td>\n",
              "      <td>10.000000</td>\n",
              "      <td>10.000000</td>\n",
              "    </tr>\n",
              "  </tbody>\n",
              "</table>\n",
              "</div>\n",
              "      <button class=\"colab-df-convert\" onclick=\"convertToInteractive('df-eb79732c-4eb3-4168-8d92-f27a55a3f3d6')\"\n",
              "              title=\"Convert this dataframe to an interactive table.\"\n",
              "              style=\"display:none;\">\n",
              "        \n",
              "  <svg xmlns=\"http://www.w3.org/2000/svg\" height=\"24px\"viewBox=\"0 0 24 24\"\n",
              "       width=\"24px\">\n",
              "    <path d=\"M0 0h24v24H0V0z\" fill=\"none\"/>\n",
              "    <path d=\"M18.56 5.44l.94 2.06.94-2.06 2.06-.94-2.06-.94-.94-2.06-.94 2.06-2.06.94zm-11 1L8.5 8.5l.94-2.06 2.06-.94-2.06-.94L8.5 2.5l-.94 2.06-2.06.94zm10 10l.94 2.06.94-2.06 2.06-.94-2.06-.94-.94-2.06-.94 2.06-2.06.94z\"/><path d=\"M17.41 7.96l-1.37-1.37c-.4-.4-.92-.59-1.43-.59-.52 0-1.04.2-1.43.59L10.3 9.45l-7.72 7.72c-.78.78-.78 2.05 0 2.83L4 21.41c.39.39.9.59 1.41.59.51 0 1.02-.2 1.41-.59l7.78-7.78 2.81-2.81c.8-.78.8-2.07 0-2.86zM5.41 20L4 18.59l7.72-7.72 1.47 1.35L5.41 20z\"/>\n",
              "  </svg>\n",
              "      </button>\n",
              "      \n",
              "  <style>\n",
              "    .colab-df-container {\n",
              "      display:flex;\n",
              "      flex-wrap:wrap;\n",
              "      gap: 12px;\n",
              "    }\n",
              "\n",
              "    .colab-df-convert {\n",
              "      background-color: #E8F0FE;\n",
              "      border: none;\n",
              "      border-radius: 50%;\n",
              "      cursor: pointer;\n",
              "      display: none;\n",
              "      fill: #1967D2;\n",
              "      height: 32px;\n",
              "      padding: 0 0 0 0;\n",
              "      width: 32px;\n",
              "    }\n",
              "\n",
              "    .colab-df-convert:hover {\n",
              "      background-color: #E2EBFA;\n",
              "      box-shadow: 0px 1px 2px rgba(60, 64, 67, 0.3), 0px 1px 3px 1px rgba(60, 64, 67, 0.15);\n",
              "      fill: #174EA6;\n",
              "    }\n",
              "\n",
              "    [theme=dark] .colab-df-convert {\n",
              "      background-color: #3B4455;\n",
              "      fill: #D2E3FC;\n",
              "    }\n",
              "\n",
              "    [theme=dark] .colab-df-convert:hover {\n",
              "      background-color: #434B5C;\n",
              "      box-shadow: 0px 1px 3px 1px rgba(0, 0, 0, 0.15);\n",
              "      filter: drop-shadow(0px 1px 2px rgba(0, 0, 0, 0.3));\n",
              "      fill: #FFFFFF;\n",
              "    }\n",
              "  </style>\n",
              "\n",
              "      <script>\n",
              "        const buttonEl =\n",
              "          document.querySelector('#df-eb79732c-4eb3-4168-8d92-f27a55a3f3d6 button.colab-df-convert');\n",
              "        buttonEl.style.display =\n",
              "          google.colab.kernel.accessAllowed ? 'block' : 'none';\n",
              "\n",
              "        async function convertToInteractive(key) {\n",
              "          const element = document.querySelector('#df-eb79732c-4eb3-4168-8d92-f27a55a3f3d6');\n",
              "          const dataTable =\n",
              "            await google.colab.kernel.invokeFunction('convertToInteractive',\n",
              "                                                     [key], {});\n",
              "          if (!dataTable) return;\n",
              "\n",
              "          const docLinkHtml = 'Like what you see? Visit the ' +\n",
              "            '<a target=\"_blank\" href=https://colab.research.google.com/notebooks/data_table.ipynb>data table notebook</a>'\n",
              "            + ' to learn more about interactive tables.';\n",
              "          element.innerHTML = '';\n",
              "          dataTable['output_type'] = 'display_data';\n",
              "          await google.colab.output.renderOutput(dataTable, element);\n",
              "          const docLink = document.createElement('div');\n",
              "          docLink.innerHTML = docLinkHtml;\n",
              "          element.appendChild(docLink);\n",
              "        }\n",
              "      </script>\n",
              "    </div>\n",
              "  </div>\n",
              "  "
            ]
          },
          "metadata": {},
          "execution_count": 6
        }
      ]
    },
    {
      "cell_type": "code",
      "source": [
        "df['KM'] = df['KM'].astype('int')\n",
        "df['KT'] = df['KT'].astype('int')"
      ],
      "metadata": {
        "id": "TJmbYHkYC7ha"
      },
      "execution_count": 7,
      "outputs": []
    },
    {
      "cell_type": "markdown",
      "source": [
        "*Handling Missing Values*"
      ],
      "metadata": {
        "id": "MauI7fffBf_a"
      }
    },
    {
      "cell_type": "code",
      "source": [
        "df.isnull().sum()"
      ],
      "metadata": {
        "colab": {
          "base_uri": "https://localhost:8080/"
        },
        "id": "ANt6YCwoBb9w",
        "outputId": "61e6a3d7-0b78-4e5f-eab4-5fca3f1d7af4"
      },
      "execution_count": 8,
      "outputs": [
        {
          "output_type": "execute_result",
          "data": {
            "text/plain": [
              "NO            0\n",
              "NAMA RUMAH    0\n",
              "HARGA         0\n",
              "LB            0\n",
              "LT            0\n",
              "KT            0\n",
              "KM            0\n",
              "GRS           0\n",
              "dtype: int64"
            ]
          },
          "metadata": {},
          "execution_count": 8
        }
      ]
    },
    {
      "cell_type": "markdown",
      "source": [
        "*Exploratory Data Analysis*"
      ],
      "metadata": {
        "id": "yp8ELu8eB1cs"
      }
    },
    {
      "cell_type": "code",
      "source": [
        "df.head(15)"
      ],
      "metadata": {
        "colab": {
          "base_uri": "https://localhost:8080/",
          "height": 520
        },
        "id": "JMHpkVzJBzA5",
        "outputId": "4d3fba3f-7296-470e-9851-8860dae16572"
      },
      "execution_count": 9,
      "outputs": [
        {
          "output_type": "execute_result",
          "data": {
            "text/plain": [
              "    NO                                         NAMA RUMAH        HARGA   LB  \\\n",
              "0    1  Rumah Murah Hook Tebet Timur, Tebet, Jakarta S...   3800000000  220   \n",
              "1    2  Rumah Modern di Tebet dekat Stasiun, Tebet, Ja...   4600000000  180   \n",
              "2    3  Rumah Mewah 2 Lantai Hanya 3 Menit Ke Tebet, T...   3000000000  267   \n",
              "3    4           Rumah Baru Tebet, Tebet, Jakarta Selatan    430000000   40   \n",
              "4    5  Rumah Bagus Tebet komp Gudang Peluru lt 350m, ...   9000000000  400   \n",
              "5    6  Rumah Mewah Modern Murah 3 lantai di Tebet Jak...   4970000000  300   \n",
              "6    7  Rumah lama di Tebet, dekat MT Haryono dan tol ...   2600000000  120   \n",
              "7    8  RUMAH BAGUS KEREN JALAN LEBAR DI AREA & KAWASA...  10500000000  350   \n",
              "8    9  Minimalis Baru Jalan 1 Mobil Akses Mudah Dekat...   3250000000  125   \n",
              "9   10  Minimalis Baru Jalan 2 Mobil Tebet Timur, Tebe...   4500000000  250   \n",
              "10  11  Brand New house di Tebet Barat, Tebet, Jakarta...   3600000000  154   \n",
              "11  12       Rumah Mewah di TEBET, Tebet, Jakarta Selatan   9500000000  450   \n",
              "12  13  Rumah bagus di tebet, jakarta selatan, Tebet, ...  10500000000  218   \n",
              "13  14  #BAWAHNJOP#MURAH#CASHONLY#LELANG# RUMAH ASEM B...  12500000000  200   \n",
              "14  15  Rukan Baru Siap Pakai di Tebet Jakarta Selatan...   4600000000  180   \n",
              "\n",
              "     LT  KT  KM  GRS  \n",
              "0   220   3   3    0  \n",
              "1   137   4   3    2  \n",
              "2   250   4   4    4  \n",
              "3    25   2   2    0  \n",
              "4   355   6   5    3  \n",
              "5   154   5   3    3  \n",
              "6   150   3   2    1  \n",
              "7   247   4   4    0  \n",
              "8    90   3   3    0  \n",
              "9    96   5   4    1  \n",
              "10  110   3   3    3  \n",
              "11  240   4   4    1  \n",
              "12  118   3   3    2  \n",
              "13  979   4   2    6  \n",
              "14  137   5   4    2  "
            ],
            "text/html": [
              "\n",
              "  <div id=\"df-06f9f999-112e-4ac8-8932-f77263535b4d\">\n",
              "    <div class=\"colab-df-container\">\n",
              "      <div>\n",
              "<style scoped>\n",
              "    .dataframe tbody tr th:only-of-type {\n",
              "        vertical-align: middle;\n",
              "    }\n",
              "\n",
              "    .dataframe tbody tr th {\n",
              "        vertical-align: top;\n",
              "    }\n",
              "\n",
              "    .dataframe thead th {\n",
              "        text-align: right;\n",
              "    }\n",
              "</style>\n",
              "<table border=\"1\" class=\"dataframe\">\n",
              "  <thead>\n",
              "    <tr style=\"text-align: right;\">\n",
              "      <th></th>\n",
              "      <th>NO</th>\n",
              "      <th>NAMA RUMAH</th>\n",
              "      <th>HARGA</th>\n",
              "      <th>LB</th>\n",
              "      <th>LT</th>\n",
              "      <th>KT</th>\n",
              "      <th>KM</th>\n",
              "      <th>GRS</th>\n",
              "    </tr>\n",
              "  </thead>\n",
              "  <tbody>\n",
              "    <tr>\n",
              "      <th>0</th>\n",
              "      <td>1</td>\n",
              "      <td>Rumah Murah Hook Tebet Timur, Tebet, Jakarta S...</td>\n",
              "      <td>3800000000</td>\n",
              "      <td>220</td>\n",
              "      <td>220</td>\n",
              "      <td>3</td>\n",
              "      <td>3</td>\n",
              "      <td>0</td>\n",
              "    </tr>\n",
              "    <tr>\n",
              "      <th>1</th>\n",
              "      <td>2</td>\n",
              "      <td>Rumah Modern di Tebet dekat Stasiun, Tebet, Ja...</td>\n",
              "      <td>4600000000</td>\n",
              "      <td>180</td>\n",
              "      <td>137</td>\n",
              "      <td>4</td>\n",
              "      <td>3</td>\n",
              "      <td>2</td>\n",
              "    </tr>\n",
              "    <tr>\n",
              "      <th>2</th>\n",
              "      <td>3</td>\n",
              "      <td>Rumah Mewah 2 Lantai Hanya 3 Menit Ke Tebet, T...</td>\n",
              "      <td>3000000000</td>\n",
              "      <td>267</td>\n",
              "      <td>250</td>\n",
              "      <td>4</td>\n",
              "      <td>4</td>\n",
              "      <td>4</td>\n",
              "    </tr>\n",
              "    <tr>\n",
              "      <th>3</th>\n",
              "      <td>4</td>\n",
              "      <td>Rumah Baru Tebet, Tebet, Jakarta Selatan</td>\n",
              "      <td>430000000</td>\n",
              "      <td>40</td>\n",
              "      <td>25</td>\n",
              "      <td>2</td>\n",
              "      <td>2</td>\n",
              "      <td>0</td>\n",
              "    </tr>\n",
              "    <tr>\n",
              "      <th>4</th>\n",
              "      <td>5</td>\n",
              "      <td>Rumah Bagus Tebet komp Gudang Peluru lt 350m, ...</td>\n",
              "      <td>9000000000</td>\n",
              "      <td>400</td>\n",
              "      <td>355</td>\n",
              "      <td>6</td>\n",
              "      <td>5</td>\n",
              "      <td>3</td>\n",
              "    </tr>\n",
              "    <tr>\n",
              "      <th>5</th>\n",
              "      <td>6</td>\n",
              "      <td>Rumah Mewah Modern Murah 3 lantai di Tebet Jak...</td>\n",
              "      <td>4970000000</td>\n",
              "      <td>300</td>\n",
              "      <td>154</td>\n",
              "      <td>5</td>\n",
              "      <td>3</td>\n",
              "      <td>3</td>\n",
              "    </tr>\n",
              "    <tr>\n",
              "      <th>6</th>\n",
              "      <td>7</td>\n",
              "      <td>Rumah lama di Tebet, dekat MT Haryono dan tol ...</td>\n",
              "      <td>2600000000</td>\n",
              "      <td>120</td>\n",
              "      <td>150</td>\n",
              "      <td>3</td>\n",
              "      <td>2</td>\n",
              "      <td>1</td>\n",
              "    </tr>\n",
              "    <tr>\n",
              "      <th>7</th>\n",
              "      <td>8</td>\n",
              "      <td>RUMAH BAGUS KEREN JALAN LEBAR DI AREA &amp; KAWASA...</td>\n",
              "      <td>10500000000</td>\n",
              "      <td>350</td>\n",
              "      <td>247</td>\n",
              "      <td>4</td>\n",
              "      <td>4</td>\n",
              "      <td>0</td>\n",
              "    </tr>\n",
              "    <tr>\n",
              "      <th>8</th>\n",
              "      <td>9</td>\n",
              "      <td>Minimalis Baru Jalan 1 Mobil Akses Mudah Dekat...</td>\n",
              "      <td>3250000000</td>\n",
              "      <td>125</td>\n",
              "      <td>90</td>\n",
              "      <td>3</td>\n",
              "      <td>3</td>\n",
              "      <td>0</td>\n",
              "    </tr>\n",
              "    <tr>\n",
              "      <th>9</th>\n",
              "      <td>10</td>\n",
              "      <td>Minimalis Baru Jalan 2 Mobil Tebet Timur, Tebe...</td>\n",
              "      <td>4500000000</td>\n",
              "      <td>250</td>\n",
              "      <td>96</td>\n",
              "      <td>5</td>\n",
              "      <td>4</td>\n",
              "      <td>1</td>\n",
              "    </tr>\n",
              "    <tr>\n",
              "      <th>10</th>\n",
              "      <td>11</td>\n",
              "      <td>Brand New house di Tebet Barat, Tebet, Jakarta...</td>\n",
              "      <td>3600000000</td>\n",
              "      <td>154</td>\n",
              "      <td>110</td>\n",
              "      <td>3</td>\n",
              "      <td>3</td>\n",
              "      <td>3</td>\n",
              "    </tr>\n",
              "    <tr>\n",
              "      <th>11</th>\n",
              "      <td>12</td>\n",
              "      <td>Rumah Mewah di TEBET, Tebet, Jakarta Selatan</td>\n",
              "      <td>9500000000</td>\n",
              "      <td>450</td>\n",
              "      <td>240</td>\n",
              "      <td>4</td>\n",
              "      <td>4</td>\n",
              "      <td>1</td>\n",
              "    </tr>\n",
              "    <tr>\n",
              "      <th>12</th>\n",
              "      <td>13</td>\n",
              "      <td>Rumah bagus di tebet, jakarta selatan, Tebet, ...</td>\n",
              "      <td>10500000000</td>\n",
              "      <td>218</td>\n",
              "      <td>118</td>\n",
              "      <td>3</td>\n",
              "      <td>3</td>\n",
              "      <td>2</td>\n",
              "    </tr>\n",
              "    <tr>\n",
              "      <th>13</th>\n",
              "      <td>14</td>\n",
              "      <td>#BAWAHNJOP#MURAH#CASHONLY#LELANG# RUMAH ASEM B...</td>\n",
              "      <td>12500000000</td>\n",
              "      <td>200</td>\n",
              "      <td>979</td>\n",
              "      <td>4</td>\n",
              "      <td>2</td>\n",
              "      <td>6</td>\n",
              "    </tr>\n",
              "    <tr>\n",
              "      <th>14</th>\n",
              "      <td>15</td>\n",
              "      <td>Rukan Baru Siap Pakai di Tebet Jakarta Selatan...</td>\n",
              "      <td>4600000000</td>\n",
              "      <td>180</td>\n",
              "      <td>137</td>\n",
              "      <td>5</td>\n",
              "      <td>4</td>\n",
              "      <td>2</td>\n",
              "    </tr>\n",
              "  </tbody>\n",
              "</table>\n",
              "</div>\n",
              "      <button class=\"colab-df-convert\" onclick=\"convertToInteractive('df-06f9f999-112e-4ac8-8932-f77263535b4d')\"\n",
              "              title=\"Convert this dataframe to an interactive table.\"\n",
              "              style=\"display:none;\">\n",
              "        \n",
              "  <svg xmlns=\"http://www.w3.org/2000/svg\" height=\"24px\"viewBox=\"0 0 24 24\"\n",
              "       width=\"24px\">\n",
              "    <path d=\"M0 0h24v24H0V0z\" fill=\"none\"/>\n",
              "    <path d=\"M18.56 5.44l.94 2.06.94-2.06 2.06-.94-2.06-.94-.94-2.06-.94 2.06-2.06.94zm-11 1L8.5 8.5l.94-2.06 2.06-.94-2.06-.94L8.5 2.5l-.94 2.06-2.06.94zm10 10l.94 2.06.94-2.06 2.06-.94-2.06-.94-.94-2.06-.94 2.06-2.06.94z\"/><path d=\"M17.41 7.96l-1.37-1.37c-.4-.4-.92-.59-1.43-.59-.52 0-1.04.2-1.43.59L10.3 9.45l-7.72 7.72c-.78.78-.78 2.05 0 2.83L4 21.41c.39.39.9.59 1.41.59.51 0 1.02-.2 1.41-.59l7.78-7.78 2.81-2.81c.8-.78.8-2.07 0-2.86zM5.41 20L4 18.59l7.72-7.72 1.47 1.35L5.41 20z\"/>\n",
              "  </svg>\n",
              "      </button>\n",
              "      \n",
              "  <style>\n",
              "    .colab-df-container {\n",
              "      display:flex;\n",
              "      flex-wrap:wrap;\n",
              "      gap: 12px;\n",
              "    }\n",
              "\n",
              "    .colab-df-convert {\n",
              "      background-color: #E8F0FE;\n",
              "      border: none;\n",
              "      border-radius: 50%;\n",
              "      cursor: pointer;\n",
              "      display: none;\n",
              "      fill: #1967D2;\n",
              "      height: 32px;\n",
              "      padding: 0 0 0 0;\n",
              "      width: 32px;\n",
              "    }\n",
              "\n",
              "    .colab-df-convert:hover {\n",
              "      background-color: #E2EBFA;\n",
              "      box-shadow: 0px 1px 2px rgba(60, 64, 67, 0.3), 0px 1px 3px 1px rgba(60, 64, 67, 0.15);\n",
              "      fill: #174EA6;\n",
              "    }\n",
              "\n",
              "    [theme=dark] .colab-df-convert {\n",
              "      background-color: #3B4455;\n",
              "      fill: #D2E3FC;\n",
              "    }\n",
              "\n",
              "    [theme=dark] .colab-df-convert:hover {\n",
              "      background-color: #434B5C;\n",
              "      box-shadow: 0px 1px 3px 1px rgba(0, 0, 0, 0.15);\n",
              "      filter: drop-shadow(0px 1px 2px rgba(0, 0, 0, 0.3));\n",
              "      fill: #FFFFFF;\n",
              "    }\n",
              "  </style>\n",
              "\n",
              "      <script>\n",
              "        const buttonEl =\n",
              "          document.querySelector('#df-06f9f999-112e-4ac8-8932-f77263535b4d button.colab-df-convert');\n",
              "        buttonEl.style.display =\n",
              "          google.colab.kernel.accessAllowed ? 'block' : 'none';\n",
              "\n",
              "        async function convertToInteractive(key) {\n",
              "          const element = document.querySelector('#df-06f9f999-112e-4ac8-8932-f77263535b4d');\n",
              "          const dataTable =\n",
              "            await google.colab.kernel.invokeFunction('convertToInteractive',\n",
              "                                                     [key], {});\n",
              "          if (!dataTable) return;\n",
              "\n",
              "          const docLinkHtml = 'Like what you see? Visit the ' +\n",
              "            '<a target=\"_blank\" href=https://colab.research.google.com/notebooks/data_table.ipynb>data table notebook</a>'\n",
              "            + ' to learn more about interactive tables.';\n",
              "          element.innerHTML = '';\n",
              "          dataTable['output_type'] = 'display_data';\n",
              "          await google.colab.output.renderOutput(dataTable, element);\n",
              "          const docLink = document.createElement('div');\n",
              "          docLink.innerHTML = docLinkHtml;\n",
              "          element.appendChild(docLink);\n",
              "        }\n",
              "      </script>\n",
              "    </div>\n",
              "  </div>\n",
              "  "
            ]
          },
          "metadata": {},
          "execution_count": 9
        }
      ]
    },
    {
      "cell_type": "code",
      "source": [
        "#Persebaran data jumlah Kamar Tidur\n",
        "f = plt.figure(figsize=(12,4))\n",
        "\n",
        "f.add_subplot(1,2,1)\n",
        "sns.countplot(x=df['KT'])\n",
        "\n",
        "f.add_subplot (1,2,2)\n",
        "plt.boxplot (df['KT'])\n",
        "plt.show()"
      ],
      "metadata": {
        "colab": {
          "base_uri": "https://localhost:8080/",
          "height": 388
        },
        "id": "9MmXpJxKB9Xz",
        "outputId": "67169eab-e272-4503-e0ac-34f0bd238d14"
      },
      "execution_count": 14,
      "outputs": [
        {
          "output_type": "display_data",
          "data": {
            "text/plain": [
              "<Figure size 1200x400 with 2 Axes>"
            ],
            "image/png": "[encoded data removed]"
          },
          "metadata": {}
        }
      ]
    },
    {
      "cell_type": "code",
      "source": [
        "#Persebaran data jumlah Kamar Mandi\n",
        "f = plt.figure(figsize=(12,4))\n",
        "\n",
        "f.add_subplot(1,2,1)\n",
        "sns.countplot(x=df['KM'])\n",
        "\n",
        "f.add_subplot (1,2,2)\n",
        "plt.boxplot (df['KM'])\n",
        "plt.show()"
      ],
      "metadata": {
        "colab": {
          "base_uri": "https://localhost:8080/",
          "height": 388
        },
        "id": "bYFRx6IqDHFl",
        "outputId": "16e977fb-8daf-4223-ecdc-4176b981dbf4"
      },
      "execution_count": 15,
      "outputs": [
        {
          "output_type": "display_data",
          "data": {
            "text/plain": [
              "<Figure size 1200x400 with 2 Axes>"
            ],
            "image/png": "[encoded data removed]"
          },
          "metadata": {}
        }
      ]
    },
    {
      "cell_type": "code",
      "source": [
        "#Persebaran data Luas Tanah\n",
        "f = plt.figure(figsize=(12,4))\n",
        "\n",
        "f.add_subplot(1,2,1)\n",
        "df['LT'].plot(kind='kde')\n",
        "\n",
        "f.add_subplot (1,2,2)\n",
        "plt.boxplot (df['LT'])\n",
        "plt.show()"
      ],
      "metadata": {
        "id": "UUiZtBabEdLz",
        "colab": {
          "base_uri": "https://localhost:8080/",
          "height": 368
        },
        "outputId": "0820a256-0168-4dd3-985c-84ada326d1eb"
      },
      "execution_count": 19,
      "outputs": [
        {
          "output_type": "display_data",
          "data": {
            "text/plain": [
              "<Figure size 1200x400 with 2 Axes>"
            ],
            "image/png": "[encoded data removed]"
          },
          "metadata": {}
        }
      ]
    },
    {
      "cell_type": "code",
      "source": [
        "#Persebaran data Luas Bangunan\n",
        "f = plt.figure(figsize=(12,4))\n",
        "\n",
        "f.add_subplot(1,2,1)\n",
        "df['LB'].plot(kind='kde')\n",
        "\n",
        "f.add_subplot (1,2,2)\n",
        "plt.boxplot (df['LB'])\n",
        "plt.show()"
      ],
      "metadata": {
        "colab": {
          "base_uri": "https://localhost:8080/",
          "height": 368
        },
        "id": "_GpeKv4IEkqf",
        "outputId": "630f85a6-1230-450f-b872-a66b99c007d3"
      },
      "execution_count": 20,
      "outputs": [
        {
          "output_type": "display_data",
          "data": {
            "text/plain": [
              "<Figure size 1200x400 with 2 Axes>"
            ],
            "image/png": "[encoded data removed]"
          },
          "metadata": {}
        }
      ]
    },
    {
      "cell_type": "code",
      "source": [
        "#Bivariate antara independent variabel dengan dependent variabel\n",
        "plt.figure(figsize=(10,4))\n",
        "sns.pairplot(data=df, x_vars=['LB','LT','KT','KM','GRS'], y_vars=['HARGA'], size=5)\n",
        "plt.show()"
      ],
      "metadata": {
        "colab": {
          "base_uri": "https://localhost:8080/",
          "height": 432
        },
        "id": "7tma_EL4E9Bs",
        "outputId": "84accd8a-518b-4cbc-bae9-478d15deb463"
      },
      "execution_count": 27,
      "outputs": [
        {
          "output_type": "stream",
          "name": "stderr",
          "text": [
            "/usr/local/lib/python3.10/dist-packages/seaborn/axisgrid.py:2095: UserWarning: The `size` parameter has been renamed to `height`; please update your code.\n",
            "  warnings.warn(msg, UserWarning)\n"
          ]
        },
        {
          "output_type": "display_data",
          "data": {
            "text/plain": [
              "<Figure size 1000x400 with 0 Axes>"
            ]
          },
          "metadata": {}
        },
        {
          "output_type": "display_data",
          "data": {
            "text/plain": [
              "<Figure size 2500x500 with 5 Axes>"
            ],
            "image/png": "[encoded data removed]"
          },
          "metadata": {}
        }
      ]
    },
    {
      "cell_type": "code",
      "source": [
        "#Nilai korelasi dari variabel independent dan variabel dependent\n",
        "df.corr().style.background_gradient().set_precision(2)"
      ],
      "metadata": {
        "colab": {
          "base_uri": "https://localhost:8080/",
          "height": 358
        },
        "id": "0C9ppwfpF7I5",
        "outputId": "f85a9961-8584-4ef5-e1dc-d484244ae8ea"
      },
      "execution_count": 28,
      "outputs": [
        {
          "output_type": "stream",
          "name": "stderr",
          "text": [
            "<ipython-input-28-9e1bc000d672>:2: FutureWarning: The default value of numeric_only in DataFrame.corr is deprecated. In a future version, it will default to False. Select only valid columns or specify the value of numeric_only to silence this warning.\n",
            "  df.corr().style.background_gradient().set_precision(2)\n",
            "<ipython-input-28-9e1bc000d672>:2: FutureWarning: this method is deprecated in favour of `Styler.format(precision=..)`\n",
            "  df.corr().style.background_gradient().set_precision(2)\n"
          ]
        },
        {
          "output_type": "execute_result",
          "data": {
            "text/plain": [
              "<pandas.io.formats.style.Styler at 0x7f63c44cffa0>"
            ],
            "text/html": [
              "<style type=\"text/css\">\n",
              "#T_1156b_row0_col0, #T_1156b_row1_col1, #T_1156b_row2_col2, #T_1156b_row3_col3, #T_1156b_row4_col4, #T_1156b_row5_col5, #T_1156b_row6_col6 {\n",
              "  background-color: #023858;\n",
              "  color: #f1f1f1;\n",
              "}\n",
              "#T_1156b_row0_col1, #T_1156b_row0_col2, #T_1156b_row0_col3, #T_1156b_row0_col4, #T_1156b_row0_col5, #T_1156b_row0_col6, #T_1156b_row4_col0 {\n",
              "  background-color: #fff7fb;\n",
              "  color: #000000;\n",
              "}\n",
              "#T_1156b_row1_col0 {\n",
              "  background-color: #f8f1f8;\n",
              "  color: #000000;\n",
              "}\n",
              "#T_1156b_row1_col2 {\n",
              "  background-color: #0872b1;\n",
              "  color: #f1f1f1;\n",
              "}\n",
              "#T_1156b_row1_col3, #T_1156b_row3_col1 {\n",
              "  background-color: #0566a0;\n",
              "  color: #f1f1f1;\n",
              "}\n",
              "#T_1156b_row1_col4 {\n",
              "  background-color: #afc1dd;\n",
              "  color: #000000;\n",
              "}\n",
              "#T_1156b_row1_col5 {\n",
              "  background-color: #93b5d6;\n",
              "  color: #000000;\n",
              "}\n",
              "#T_1156b_row1_col6, #T_1156b_row2_col4, #T_1156b_row3_col6 {\n",
              "  background-color: #83afd3;\n",
              "  color: #f1f1f1;\n",
              "}\n",
              "#T_1156b_row2_col0, #T_1156b_row3_col0 {\n",
              "  background-color: #f7f0f7;\n",
              "  color: #000000;\n",
              "}\n",
              "#T_1156b_row2_col1 {\n",
              "  background-color: #0771b1;\n",
              "  color: #f1f1f1;\n",
              "}\n",
              "#T_1156b_row2_col3, #T_1156b_row3_col2 {\n",
              "  background-color: #0a73b2;\n",
              "  color: #f1f1f1;\n",
              "}\n",
              "#T_1156b_row2_col5 {\n",
              "  background-color: #5ea0ca;\n",
              "  color: #f1f1f1;\n",
              "}\n",
              "#T_1156b_row2_col6 {\n",
              "  background-color: #80aed2;\n",
              "  color: #f1f1f1;\n",
              "}\n",
              "#T_1156b_row3_col4 {\n",
              "  background-color: #89b1d4;\n",
              "  color: #000000;\n",
              "}\n",
              "#T_1156b_row3_col5 {\n",
              "  background-color: #99b8d8;\n",
              "  color: #000000;\n",
              "}\n",
              "#T_1156b_row4_col1 {\n",
              "  background-color: #b9c6e0;\n",
              "  color: #000000;\n",
              "}\n",
              "#T_1156b_row4_col2 {\n",
              "  background-color: #8fb4d6;\n",
              "  color: #000000;\n",
              "}\n",
              "#T_1156b_row4_col3 {\n",
              "  background-color: #96b6d7;\n",
              "  color: #000000;\n",
              "}\n",
              "#T_1156b_row4_col5 {\n",
              "  background-color: #2182b9;\n",
              "  color: #f1f1f1;\n",
              "}\n",
              "#T_1156b_row4_col6 {\n",
              "  background-color: #d1d2e6;\n",
              "  color: #000000;\n",
              "}\n",
              "#T_1156b_row5_col0 {\n",
              "  background-color: #fef6fa;\n",
              "  color: #000000;\n",
              "}\n",
              "#T_1156b_row5_col1 {\n",
              "  background-color: #9cb9d9;\n",
              "  color: #000000;\n",
              "}\n",
              "#T_1156b_row5_col2 {\n",
              "  background-color: #69a5cc;\n",
              "  color: #f1f1f1;\n",
              "}\n",
              "#T_1156b_row5_col3 {\n",
              "  background-color: #a4bcda;\n",
              "  color: #000000;\n",
              "}\n",
              "#T_1156b_row5_col4 {\n",
              "  background-color: #2081b9;\n",
              "  color: #f1f1f1;\n",
              "}\n",
              "#T_1156b_row5_col6 {\n",
              "  background-color: #bbc7e0;\n",
              "  color: #000000;\n",
              "}\n",
              "#T_1156b_row6_col0 {\n",
              "  background-color: #f3edf5;\n",
              "  color: #000000;\n",
              "}\n",
              "#T_1156b_row6_col1, #T_1156b_row6_col2 {\n",
              "  background-color: #7bacd1;\n",
              "  color: #f1f1f1;\n",
              "}\n",
              "#T_1156b_row6_col3 {\n",
              "  background-color: #7dacd1;\n",
              "  color: #f1f1f1;\n",
              "}\n",
              "#T_1156b_row6_col4 {\n",
              "  background-color: #bdc8e1;\n",
              "  color: #000000;\n",
              "}\n",
              "#T_1156b_row6_col5 {\n",
              "  background-color: #a9bfdc;\n",
              "  color: #000000;\n",
              "}\n",
              "</style>\n",
              "<table id=\"T_1156b\" class=\"dataframe\">\n",
              "  <thead>\n",
              "    <tr>\n",
              "      <th class=\"blank level0\" >&nbsp;</th>\n",
              "      <th id=\"T_1156b_level0_col0\" class=\"col_heading level0 col0\" >NO</th>\n",
              "      <th id=\"T_1156b_level0_col1\" class=\"col_heading level0 col1\" >HARGA</th>\n",
              "      <th id=\"T_1156b_level0_col2\" class=\"col_heading level0 col2\" >LB</th>\n",
              "      <th id=\"T_1156b_level0_col3\" class=\"col_heading level0 col3\" >LT</th>\n",
              "      <th id=\"T_1156b_level0_col4\" class=\"col_heading level0 col4\" >KT</th>\n",
              "      <th id=\"T_1156b_level0_col5\" class=\"col_heading level0 col5\" >KM</th>\n",
              "      <th id=\"T_1156b_level0_col6\" class=\"col_heading level0 col6\" >GRS</th>\n",
              "    </tr>\n",
              "  </thead>\n",
              "  <tbody>\n",
              "    <tr>\n",
              "      <th id=\"T_1156b_level0_row0\" class=\"row_heading level0 row0\" >NO</th>\n",
              "      <td id=\"T_1156b_row0_col0\" class=\"data row0 col0\" >1.00</td>\n",
              "      <td id=\"T_1156b_row0_col1\" class=\"data row0 col1\" >0.01</td>\n",
              "      <td id=\"T_1156b_row0_col2\" class=\"data row0 col2\" >0.02</td>\n",
              "      <td id=\"T_1156b_row0_col3\" class=\"data row0 col3\" >0.01</td>\n",
              "      <td id=\"T_1156b_row0_col4\" class=\"data row0 col4\" >-0.04</td>\n",
              "      <td id=\"T_1156b_row0_col5\" class=\"data row0 col5\" >-0.03</td>\n",
              "      <td id=\"T_1156b_row0_col6\" class=\"data row0 col6\" >0.04</td>\n",
              "    </tr>\n",
              "    <tr>\n",
              "      <th id=\"T_1156b_level0_row1\" class=\"row_heading level0 row1\" >HARGA</th>\n",
              "      <td id=\"T_1156b_row1_col0\" class=\"data row1 col0\" >0.01</td>\n",
              "      <td id=\"T_1156b_row1_col1\" class=\"data row1 col1\" >1.00</td>\n",
              "      <td id=\"T_1156b_row1_col2\" class=\"data row1 col2\" >0.75</td>\n",
              "      <td id=\"T_1156b_row1_col3\" class=\"data row1 col3\" >0.81</td>\n",
              "      <td id=\"T_1156b_row1_col4\" class=\"data row1 col4\" >0.32</td>\n",
              "      <td id=\"T_1156b_row1_col5\" class=\"data row1 col5\" >0.40</td>\n",
              "      <td id=\"T_1156b_row1_col6\" class=\"data row1 col6\" >0.48</td>\n",
              "    </tr>\n",
              "    <tr>\n",
              "      <th id=\"T_1156b_level0_row2\" class=\"row_heading level0 row2\" >LB</th>\n",
              "      <td id=\"T_1156b_row2_col0\" class=\"data row2 col0\" >0.02</td>\n",
              "      <td id=\"T_1156b_row2_col1\" class=\"data row2 col1\" >0.75</td>\n",
              "      <td id=\"T_1156b_row2_col2\" class=\"data row2 col2\" >1.00</td>\n",
              "      <td id=\"T_1156b_row2_col3\" class=\"data row2 col3\" >0.74</td>\n",
              "      <td id=\"T_1156b_row2_col4\" class=\"data row2 col4\" >0.44</td>\n",
              "      <td id=\"T_1156b_row2_col5\" class=\"data row2 col5\" >0.53</td>\n",
              "      <td id=\"T_1156b_row2_col6\" class=\"data row2 col6\" >0.49</td>\n",
              "    </tr>\n",
              "    <tr>\n",
              "      <th id=\"T_1156b_level0_row3\" class=\"row_heading level0 row3\" >LT</th>\n",
              "      <td id=\"T_1156b_row3_col0\" class=\"data row3 col0\" >0.01</td>\n",
              "      <td id=\"T_1156b_row3_col1\" class=\"data row3 col1\" >0.81</td>\n",
              "      <td id=\"T_1156b_row3_col2\" class=\"data row3 col2\" >0.74</td>\n",
              "      <td id=\"T_1156b_row3_col3\" class=\"data row3 col3\" >1.00</td>\n",
              "      <td id=\"T_1156b_row3_col4\" class=\"data row3 col4\" >0.43</td>\n",
              "      <td id=\"T_1156b_row3_col5\" class=\"data row3 col5\" >0.39</td>\n",
              "      <td id=\"T_1156b_row3_col6\" class=\"data row3 col6\" >0.48</td>\n",
              "    </tr>\n",
              "    <tr>\n",
              "      <th id=\"T_1156b_level0_row4\" class=\"row_heading level0 row4\" >KT</th>\n",
              "      <td id=\"T_1156b_row4_col0\" class=\"data row4 col0\" >-0.04</td>\n",
              "      <td id=\"T_1156b_row4_col1\" class=\"data row4 col1\" >0.32</td>\n",
              "      <td id=\"T_1156b_row4_col2\" class=\"data row4 col2\" >0.44</td>\n",
              "      <td id=\"T_1156b_row4_col3\" class=\"data row4 col3\" >0.43</td>\n",
              "      <td id=\"T_1156b_row4_col4\" class=\"data row4 col4\" >1.00</td>\n",
              "      <td id=\"T_1156b_row4_col5\" class=\"data row4 col5\" >0.67</td>\n",
              "      <td id=\"T_1156b_row4_col6\" class=\"data row4 col6\" >0.28</td>\n",
              "    </tr>\n",
              "    <tr>\n",
              "      <th id=\"T_1156b_level0_row5\" class=\"row_heading level0 row5\" >KM</th>\n",
              "      <td id=\"T_1156b_row5_col0\" class=\"data row5 col0\" >-0.03</td>\n",
              "      <td id=\"T_1156b_row5_col1\" class=\"data row5 col1\" >0.40</td>\n",
              "      <td id=\"T_1156b_row5_col2\" class=\"data row5 col2\" >0.53</td>\n",
              "      <td id=\"T_1156b_row5_col3\" class=\"data row5 col3\" >0.39</td>\n",
              "      <td id=\"T_1156b_row5_col4\" class=\"data row5 col4\" >0.67</td>\n",
              "      <td id=\"T_1156b_row5_col5\" class=\"data row5 col5\" >1.00</td>\n",
              "      <td id=\"T_1156b_row5_col6\" class=\"data row5 col6\" >0.35</td>\n",
              "    </tr>\n",
              "    <tr>\n",
              "      <th id=\"T_1156b_level0_row6\" class=\"row_heading level0 row6\" >GRS</th>\n",
              "      <td id=\"T_1156b_row6_col0\" class=\"data row6 col0\" >0.04</td>\n",
              "      <td id=\"T_1156b_row6_col1\" class=\"data row6 col1\" >0.48</td>\n",
              "      <td id=\"T_1156b_row6_col2\" class=\"data row6 col2\" >0.49</td>\n",
              "      <td id=\"T_1156b_row6_col3\" class=\"data row6 col3\" >0.48</td>\n",
              "      <td id=\"T_1156b_row6_col4\" class=\"data row6 col4\" >0.28</td>\n",
              "      <td id=\"T_1156b_row6_col5\" class=\"data row6 col5\" >0.35</td>\n",
              "      <td id=\"T_1156b_row6_col6\" class=\"data row6 col6\" >1.00</td>\n",
              "    </tr>\n",
              "  </tbody>\n",
              "</table>\n"
            ]
          },
          "metadata": {},
          "execution_count": 28
        }
      ]
    },
    {
      "cell_type": "markdown",
      "source": [
        "*Linear Regression Modelling*"
      ],
      "metadata": {
        "id": "LeASKvxoG-Gi"
      }
    },
    {
      "cell_type": "code",
      "source": [
        "df.head()"
      ],
      "metadata": {
        "colab": {
          "base_uri": "https://localhost:8080/",
          "height": 206
        },
        "id": "eCiZhceXG3Ga",
        "outputId": "29ec3a0b-c95d-43a6-9839-ed63d15fd25a"
      },
      "execution_count": 29,
      "outputs": [
        {
          "output_type": "execute_result",
          "data": {
            "text/plain": [
              "   NO                                         NAMA RUMAH       HARGA   LB  \\\n",
              "0   1  Rumah Murah Hook Tebet Timur, Tebet, Jakarta S...  3800000000  220   \n",
              "1   2  Rumah Modern di Tebet dekat Stasiun, Tebet, Ja...  4600000000  180   \n",
              "2   3  Rumah Mewah 2 Lantai Hanya 3 Menit Ke Tebet, T...  3000000000  267   \n",
              "3   4           Rumah Baru Tebet, Tebet, Jakarta Selatan   430000000   40   \n",
              "4   5  Rumah Bagus Tebet komp Gudang Peluru lt 350m, ...  9000000000  400   \n",
              "\n",
              "    LT  KT  KM  GRS  \n",
              "0  220   3   3    0  \n",
              "1  137   4   3    2  \n",
              "2  250   4   4    4  \n",
              "3   25   2   2    0  \n",
              "4  355   6   5    3  "
            ],
            "text/html": [
              "\n",
              "  <div id=\"df-26931987-34f0-4755-866a-ce5b8b69e038\">\n",
              "    <div class=\"colab-df-container\">\n",
              "      <div>\n",
              "<style scoped>\n",
              "    .dataframe tbody tr th:only-of-type {\n",
              "        vertical-align: middle;\n",
              "    }\n",
              "\n",
              "    .dataframe tbody tr th {\n",
              "        vertical-align: top;\n",
              "    }\n",
              "\n",
              "    .dataframe thead th {\n",
              "        text-align: right;\n",
              "    }\n",
              "</style>\n",
              "<table border=\"1\" class=\"dataframe\">\n",
              "  <thead>\n",
              "    <tr style=\"text-align: right;\">\n",
              "      <th></th>\n",
              "      <th>NO</th>\n",
              "      <th>NAMA RUMAH</th>\n",
              "      <th>HARGA</th>\n",
              "      <th>LB</th>\n",
              "      <th>LT</th>\n",
              "      <th>KT</th>\n",
              "      <th>KM</th>\n",
              "      <th>GRS</th>\n",
              "    </tr>\n",
              "  </thead>\n",
              "  <tbody>\n",
              "    <tr>\n",
              "      <th>0</th>\n",
              "      <td>1</td>\n",
              "      <td>Rumah Murah Hook Tebet Timur, Tebet, Jakarta S...</td>\n",
              "      <td>3800000000</td>\n",
              "      <td>220</td>\n",
              "      <td>220</td>\n",
              "      <td>3</td>\n",
              "      <td>3</td>\n",
              "      <td>0</td>\n",
              "    </tr>\n",
              "    <tr>\n",
              "      <th>1</th>\n",
              "      <td>2</td>\n",
              "      <td>Rumah Modern di Tebet dekat Stasiun, Tebet, Ja...</td>\n",
              "      <td>4600000000</td>\n",
              "      <td>180</td>\n",
              "      <td>137</td>\n",
              "      <td>4</td>\n",
              "      <td>3</td>\n",
              "      <td>2</td>\n",
              "    </tr>\n",
              "    <tr>\n",
              "      <th>2</th>\n",
              "      <td>3</td>\n",
              "      <td>Rumah Mewah 2 Lantai Hanya 3 Menit Ke Tebet, T...</td>\n",
              "      <td>3000000000</td>\n",
              "      <td>267</td>\n",
              "      <td>250</td>\n",
              "      <td>4</td>\n",
              "      <td>4</td>\n",
              "      <td>4</td>\n",
              "    </tr>\n",
              "    <tr>\n",
              "      <th>3</th>\n",
              "      <td>4</td>\n",
              "      <td>Rumah Baru Tebet, Tebet, Jakarta Selatan</td>\n",
              "      <td>430000000</td>\n",
              "      <td>40</td>\n",
              "      <td>25</td>\n",
              "      <td>2</td>\n",
              "      <td>2</td>\n",
              "      <td>0</td>\n",
              "    </tr>\n",
              "    <tr>\n",
              "      <th>4</th>\n",
              "      <td>5</td>\n",
              "      <td>Rumah Bagus Tebet komp Gudang Peluru lt 350m, ...</td>\n",
              "      <td>9000000000</td>\n",
              "      <td>400</td>\n",
              "      <td>355</td>\n",
              "      <td>6</td>\n",
              "      <td>5</td>\n",
              "      <td>3</td>\n",
              "    </tr>\n",
              "  </tbody>\n",
              "</table>\n",
              "</div>\n",
              "      <button class=\"colab-df-convert\" onclick=\"convertToInteractive('df-26931987-34f0-4755-866a-ce5b8b69e038')\"\n",
              "              title=\"Convert this dataframe to an interactive table.\"\n",
              "              style=\"display:none;\">\n",
              "        \n",
              "  <svg xmlns=\"http://www.w3.org/2000/svg\" height=\"24px\"viewBox=\"0 0 24 24\"\n",
              "       width=\"24px\">\n",
              "    <path d=\"M0 0h24v24H0V0z\" fill=\"none\"/>\n",
              "    <path d=\"M18.56 5.44l.94 2.06.94-2.06 2.06-.94-2.06-.94-.94-2.06-.94 2.06-2.06.94zm-11 1L8.5 8.5l.94-2.06 2.06-.94-2.06-.94L8.5 2.5l-.94 2.06-2.06.94zm10 10l.94 2.06.94-2.06 2.06-.94-2.06-.94-.94-2.06-.94 2.06-2.06.94z\"/><path d=\"M17.41 7.96l-1.37-1.37c-.4-.4-.92-.59-1.43-.59-.52 0-1.04.2-1.43.59L10.3 9.45l-7.72 7.72c-.78.78-.78 2.05 0 2.83L4 21.41c.39.39.9.59 1.41.59.51 0 1.02-.2 1.41-.59l7.78-7.78 2.81-2.81c.8-.78.8-2.07 0-2.86zM5.41 20L4 18.59l7.72-7.72 1.47 1.35L5.41 20z\"/>\n",
              "  </svg>\n",
              "      </button>\n",
              "      \n",
              "  <style>\n",
              "    .colab-df-container {\n",
              "      display:flex;\n",
              "      flex-wrap:wrap;\n",
              "      gap: 12px;\n",
              "    }\n",
              "\n",
              "    .colab-df-convert {\n",
              "      background-color: #E8F0FE;\n",
              "      border: none;\n",
              "      border-radius: 50%;\n",
              "      cursor: pointer;\n",
              "      display: none;\n",
              "      fill: #1967D2;\n",
              "      height: 32px;\n",
              "      padding: 0 0 0 0;\n",
              "      width: 32px;\n",
              "    }\n",
              "\n",
              "    .colab-df-convert:hover {\n",
              "      background-color: #E2EBFA;\n",
              "      box-shadow: 0px 1px 2px rgba(60, 64, 67, 0.3), 0px 1px 3px 1px rgba(60, 64, 67, 0.15);\n",
              "      fill: #174EA6;\n",
              "    }\n",
              "\n",
              "    [theme=dark] .colab-df-convert {\n",
              "      background-color: #3B4455;\n",
              "      fill: #D2E3FC;\n",
              "    }\n",
              "\n",
              "    [theme=dark] .colab-df-convert:hover {\n",
              "      background-color: #434B5C;\n",
              "      box-shadow: 0px 1px 3px 1px rgba(0, 0, 0, 0.15);\n",
              "      filter: drop-shadow(0px 1px 2px rgba(0, 0, 0, 0.3));\n",
              "      fill: #FFFFFF;\n",
              "    }\n",
              "  </style>\n",
              "\n",
              "      <script>\n",
              "        const buttonEl =\n",
              "          document.querySelector('#df-26931987-34f0-4755-866a-ce5b8b69e038 button.colab-df-convert');\n",
              "        buttonEl.style.display =\n",
              "          google.colab.kernel.accessAllowed ? 'block' : 'none';\n",
              "\n",
              "        async function convertToInteractive(key) {\n",
              "          const element = document.querySelector('#df-26931987-34f0-4755-866a-ce5b8b69e038');\n",
              "          const dataTable =\n",
              "            await google.colab.kernel.invokeFunction('convertToInteractive',\n",
              "                                                     [key], {});\n",
              "          if (!dataTable) return;\n",
              "\n",
              "          const docLinkHtml = 'Like what you see? Visit the ' +\n",
              "            '<a target=\"_blank\" href=https://colab.research.google.com/notebooks/data_table.ipynb>data table notebook</a>'\n",
              "            + ' to learn more about interactive tables.';\n",
              "          element.innerHTML = '';\n",
              "          dataTable['output_type'] = 'display_data';\n",
              "          await google.colab.output.renderOutput(dataTable, element);\n",
              "          const docLink = document.createElement('div');\n",
              "          docLink.innerHTML = docLinkHtml;\n",
              "          element.appendChild(docLink);\n",
              "        }\n",
              "      </script>\n",
              "    </div>\n",
              "  </div>\n",
              "  "
            ]
          },
          "metadata": {},
          "execution_count": 29
        }
      ]
    },
    {
      "cell_type": "code",
      "source": [
        "x = df.drop(columns=['NO','HARGA', 'NAMA RUMAH'])\n",
        "y = df['HARGA']"
      ],
      "metadata": {
        "id": "3bSJOqHDHHAa"
      },
      "execution_count": 51,
      "outputs": []
    },
    {
      "cell_type": "code",
      "source": [
        "#Split Dataset\n",
        "x_train, x_test, y_train, y_test = train_test_split(x, y, test_size=0.2, random_state=42)"
      ],
      "metadata": {
        "id": "z6gy9x6lHWdJ"
      },
      "execution_count": 52,
      "outputs": []
    },
    {
      "cell_type": "code",
      "source": [
        "print(x_train.shape)\n",
        "print(y_train.shape)\n",
        "print(x_test.shape)\n",
        "print(y_test.shape)"
      ],
      "metadata": {
        "colab": {
          "base_uri": "https://localhost:8080/"
        },
        "id": "oAXZqwZ9HtWh",
        "outputId": "81753e71-ea35-4e37-fe27-5fd825393f83"
      },
      "execution_count": 53,
      "outputs": [
        {
          "output_type": "stream",
          "name": "stdout",
          "text": [
            "(808, 5)\n",
            "(808,)\n",
            "(202, 5)\n",
            "(202,)\n"
          ]
        }
      ]
    },
    {
      "cell_type": "code",
      "source": [
        "lin_reg = LinearRegression()"
      ],
      "metadata": {
        "id": "zUHRXpk5H9Za"
      },
      "execution_count": 54,
      "outputs": []
    },
    {
      "cell_type": "code",
      "source": [
        "lin_reg.fit(x_train, y_train)\n",
        "print(lin_reg.coef_)\n",
        "print(lin_reg.intercept_)"
      ],
      "metadata": {
        "colab": {
          "base_uri": "https://localhost:8080/"
        },
        "id": "vdzEK4lMIDwK",
        "outputId": "e0c15de2-db84-4009-ea0c-7df5d9558508"
      },
      "execution_count": 55,
      "outputs": [
        {
          "output_type": "stream",
          "name": "stdout",
          "text": [
            "[ 1.22852541e+07  2.32681420e+07 -6.38754626e+08  5.56618859e+08\n",
            "  2.47983448e+08]\n",
            "-775923911.9377832\n"
          ]
        }
      ]
    },
    {
      "cell_type": "code",
      "source": [
        "coef_dict = {\n",
        "    'features' : x.columns,\n",
        "    'coef_value' : lin_reg.coef_\n",
        "}\n",
        "coef = pd.DataFrame(coef_dict, columns=['features', 'coef_values'])\n",
        "coef"
      ],
      "metadata": {
        "colab": {
          "base_uri": "https://localhost:8080/",
          "height": 206
        },
        "id": "N9ymYTh5IZPb",
        "outputId": "5a631ae4-3dc7-4766-909c-a85c4ce269f6"
      },
      "execution_count": 56,
      "outputs": [
        {
          "output_type": "execute_result",
          "data": {
            "text/plain": [
              "  features coef_values\n",
              "0       LB         NaN\n",
              "1       LT         NaN\n",
              "2       KT         NaN\n",
              "3       KM         NaN\n",
              "4      GRS         NaN"
            ],
            "text/html": [
              "\n",
              "  <div id=\"df-24f07e1d-b9ef-4414-9a56-15ffa11c412c\">\n",
              "    <div class=\"colab-df-container\">\n",
              "      <div>\n",
              "<style scoped>\n",
              "    .dataframe tbody tr th:only-of-type {\n",
              "        vertical-align: middle;\n",
              "    }\n",
              "\n",
              "    .dataframe tbody tr th {\n",
              "        vertical-align: top;\n",
              "    }\n",
              "\n",
              "    .dataframe thead th {\n",
              "        text-align: right;\n",
              "    }\n",
              "</style>\n",
              "<table border=\"1\" class=\"dataframe\">\n",
              "  <thead>\n",
              "    <tr style=\"text-align: right;\">\n",
              "      <th></th>\n",
              "      <th>features</th>\n",
              "      <th>coef_values</th>\n",
              "    </tr>\n",
              "  </thead>\n",
              "  <tbody>\n",
              "    <tr>\n",
              "      <th>0</th>\n",
              "      <td>LB</td>\n",
              "      <td>NaN</td>\n",
              "    </tr>\n",
              "    <tr>\n",
              "      <th>1</th>\n",
              "      <td>LT</td>\n",
              "      <td>NaN</td>\n",
              "    </tr>\n",
              "    <tr>\n",
              "      <th>2</th>\n",
              "      <td>KT</td>\n",
              "      <td>NaN</td>\n",
              "    </tr>\n",
              "    <tr>\n",
              "      <th>3</th>\n",
              "      <td>KM</td>\n",
              "      <td>NaN</td>\n",
              "    </tr>\n",
              "    <tr>\n",
              "      <th>4</th>\n",
              "      <td>GRS</td>\n",
              "      <td>NaN</td>\n",
              "    </tr>\n",
              "  </tbody>\n",
              "</table>\n",
              "</div>\n",
              "      <button class=\"colab-df-convert\" onclick=\"convertToInteractive('df-24f07e1d-b9ef-4414-9a56-15ffa11c412c')\"\n",
              "              title=\"Convert this dataframe to an interactive table.\"\n",
              "              style=\"display:none;\">\n",
              "        \n",
              "  <svg xmlns=\"http://www.w3.org/2000/svg\" height=\"24px\"viewBox=\"0 0 24 24\"\n",
              "       width=\"24px\">\n",
              "    <path d=\"M0 0h24v24H0V0z\" fill=\"none\"/>\n",
              "    <path d=\"M18.56 5.44l.94 2.06.94-2.06 2.06-.94-2.06-.94-.94-2.06-.94 2.06-2.06.94zm-11 1L8.5 8.5l.94-2.06 2.06-.94-2.06-.94L8.5 2.5l-.94 2.06-2.06.94zm10 10l.94 2.06.94-2.06 2.06-.94-2.06-.94-.94-2.06-.94 2.06-2.06.94z\"/><path d=\"M17.41 7.96l-1.37-1.37c-.4-.4-.92-.59-1.43-.59-.52 0-1.04.2-1.43.59L10.3 9.45l-7.72 7.72c-.78.78-.78 2.05 0 2.83L4 21.41c.39.39.9.59 1.41.59.51 0 1.02-.2 1.41-.59l7.78-7.78 2.81-2.81c.8-.78.8-2.07 0-2.86zM5.41 20L4 18.59l7.72-7.72 1.47 1.35L5.41 20z\"/>\n",
              "  </svg>\n",
              "      </button>\n",
              "      \n",
              "  <style>\n",
              "    .colab-df-container {\n",
              "      display:flex;\n",
              "      flex-wrap:wrap;\n",
              "      gap: 12px;\n",
              "    }\n",
              "\n",
              "    .colab-df-convert {\n",
              "      background-color: #E8F0FE;\n",
              "      border: none;\n",
              "      border-radius: 50%;\n",
              "      cursor: pointer;\n",
              "      display: none;\n",
              "      fill: #1967D2;\n",
              "      height: 32px;\n",
              "      padding: 0 0 0 0;\n",
              "      width: 32px;\n",
              "    }\n",
              "\n",
              "    .colab-df-convert:hover {\n",
              "      background-color: #E2EBFA;\n",
              "      box-shadow: 0px 1px 2px rgba(60, 64, 67, 0.3), 0px 1px 3px 1px rgba(60, 64, 67, 0.15);\n",
              "      fill: #174EA6;\n",
              "    }\n",
              "\n",
              "    [theme=dark] .colab-df-convert {\n",
              "      background-color: #3B4455;\n",
              "      fill: #D2E3FC;\n",
              "    }\n",
              "\n",
              "    [theme=dark] .colab-df-convert:hover {\n",
              "      background-color: #434B5C;\n",
              "      box-shadow: 0px 1px 3px 1px rgba(0, 0, 0, 0.15);\n",
              "      filter: drop-shadow(0px 1px 2px rgba(0, 0, 0, 0.3));\n",
              "      fill: #FFFFFF;\n",
              "    }\n",
              "  </style>\n",
              "\n",
              "      <script>\n",
              "        const buttonEl =\n",
              "          document.querySelector('#df-24f07e1d-b9ef-4414-9a56-15ffa11c412c button.colab-df-convert');\n",
              "        buttonEl.style.display =\n",
              "          google.colab.kernel.accessAllowed ? 'block' : 'none';\n",
              "\n",
              "        async function convertToInteractive(key) {\n",
              "          const element = document.querySelector('#df-24f07e1d-b9ef-4414-9a56-15ffa11c412c');\n",
              "          const dataTable =\n",
              "            await google.colab.kernel.invokeFunction('convertToInteractive',\n",
              "                                                     [key], {});\n",
              "          if (!dataTable) return;\n",
              "\n",
              "          const docLinkHtml = 'Like what you see? Visit the ' +\n",
              "            '<a target=\"_blank\" href=https://colab.research.google.com/notebooks/data_table.ipynb>data table notebook</a>'\n",
              "            + ' to learn more about interactive tables.';\n",
              "          element.innerHTML = '';\n",
              "          dataTable['output_type'] = 'display_data';\n",
              "          await google.colab.output.renderOutput(dataTable, element);\n",
              "          const docLink = document.createElement('div');\n",
              "          docLink.innerHTML = docLinkHtml;\n",
              "          element.appendChild(docLink);\n",
              "        }\n",
              "      </script>\n",
              "    </div>\n",
              "  </div>\n",
              "  "
            ]
          },
          "metadata": {},
          "execution_count": 56
        }
      ]
    },
    {
      "cell_type": "code",
      "source": [
        "y_pred = lin_reg.predict(x_test)\n",
        "lin_reg.score(x_test, y_test)"
      ],
      "metadata": {
        "colab": {
          "base_uri": "https://localhost:8080/"
        },
        "id": "9dC-3vo6JX4N",
        "outputId": "971252c9-2ae3-4ffb-a42a-93e6c2156a58"
      },
      "execution_count": 57,
      "outputs": [
        {
          "output_type": "execute_result",
          "data": {
            "text/plain": [
              "0.7713134894077545"
            ]
          },
          "metadata": {},
          "execution_count": 57
        }
      ]
    },
    {
      "cell_type": "code",
      "source": [
        "lin_reg.predict([[220,260,5,3,2]])"
      ],
      "metadata": {
        "colab": {
          "base_uri": "https://localhost:8080/"
        },
        "id": "7FJnYHqTJrmR",
        "outputId": "259c5663-710a-4730-9bc3-b972a4aa7286"
      },
      "execution_count": 58,
      "outputs": [
        {
          "output_type": "stream",
          "name": "stderr",
          "text": [
            "/usr/local/lib/python3.10/dist-packages/sklearn/base.py:439: UserWarning: X does not have valid feature names, but LinearRegression was fitted with feature names\n",
            "  warnings.warn(\n"
          ]
        },
        {
          "output_type": "execute_result",
          "data": {
            "text/plain": [
              "array([6.94859923e+09])"
            ]
          },
          "metadata": {},
          "execution_count": 58
        }
      ]
    },
    {
      "cell_type": "code",
      "source": [],
      "metadata": {
        "id": "TbXMb7TiKJR8"
      },
      "execution_count": null,
      "outputs": []
    },
    {
      "cell_type": "code",
      "source": [
        "LB = int(input(\"Masukkan luas bangunan yang anda impikan : \"))\n",
        "LT = int(input(\"Masukan luas tanah yang anda inginkan : \"))\n",
        "KT = int(input(\"Masukkan jumlah kamar tidur yang anda inginkan : \"))\n",
        "KM = int(input(\"Masukkan jumlah kamar mandi yang anda inginkan : \"))\n",
        "GRS = int(input(\"Masukkan jumlah kendaraan yang akan digarasi : \"))\n",
        "\n",
        "price_prediction = lin_reg.predict([[LB, LT, KT, KM, GRS]])\n",
        "print(\"Rumah impian anda, berkisar di harga Rp {}\".format((price_prediction[0])))"
      ],
      "metadata": {
        "id": "vCDLBqBeK3M5"
      },
      "execution_count": null,
      "outputs": []
    },
    {
      "cell_type": "code",
      "source": [],
      "metadata": {
        "id": "N1PBlPX3NhQm"
      },
      "execution_count": null,
      "outputs": []
    }
  ]
}